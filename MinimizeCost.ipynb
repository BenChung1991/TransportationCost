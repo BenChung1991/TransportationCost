{
 "cells": [
  {
   "cell_type": "code",
   "execution_count": 1,
   "metadata": {},
   "outputs": [
    {
     "name": "stdout",
     "output_type": "stream",
     "text": [
      "Collecting ortools\n",
      "  Downloading ortools-9.10.4067-cp310-cp310-macosx_11_0_arm64.whl.metadata (2.9 kB)\n",
      "Requirement already satisfied: matplotlib in /Users/zhongbingzhang/miniforge3/envs/tensorwork/lib/python3.10/site-packages (3.8.3)\n",
      "Requirement already satisfied: absl-py>=2.0.0 in /Users/zhongbingzhang/miniforge3/envs/tensorwork/lib/python3.10/site-packages (from ortools) (2.1.0)\n",
      "Requirement already satisfied: numpy>=1.13.3 in /Users/zhongbingzhang/miniforge3/envs/tensorwork/lib/python3.10/site-packages (from ortools) (1.26.4)\n",
      "Requirement already satisfied: pandas>=2.0.0 in /Users/zhongbingzhang/miniforge3/envs/tensorwork/lib/python3.10/site-packages (from ortools) (2.2.1)\n",
      "Collecting protobuf>=5.26.1 (from ortools)\n",
      "  Downloading protobuf-5.27.2-cp38-abi3-macosx_10_9_universal2.whl.metadata (592 bytes)\n",
      "Collecting immutabledict>=3.0.0 (from ortools)\n",
      "  Downloading immutabledict-4.2.0-py3-none-any.whl.metadata (3.4 kB)\n",
      "Requirement already satisfied: contourpy>=1.0.1 in /Users/zhongbingzhang/miniforge3/envs/tensorwork/lib/python3.10/site-packages (from matplotlib) (1.2.0)\n",
      "Requirement already satisfied: cycler>=0.10 in /Users/zhongbingzhang/miniforge3/envs/tensorwork/lib/python3.10/site-packages (from matplotlib) (0.12.1)\n",
      "Requirement already satisfied: fonttools>=4.22.0 in /Users/zhongbingzhang/miniforge3/envs/tensorwork/lib/python3.10/site-packages (from matplotlib) (4.50.0)\n",
      "Requirement already satisfied: kiwisolver>=1.3.1 in /Users/zhongbingzhang/miniforge3/envs/tensorwork/lib/python3.10/site-packages (from matplotlib) (1.4.5)\n",
      "Requirement already satisfied: packaging>=20.0 in /Users/zhongbingzhang/miniforge3/envs/tensorwork/lib/python3.10/site-packages (from matplotlib) (24.0)\n",
      "Requirement already satisfied: pillow>=8 in /Users/zhongbingzhang/miniforge3/envs/tensorwork/lib/python3.10/site-packages (from matplotlib) (10.2.0)\n",
      "Requirement already satisfied: pyparsing>=2.3.1 in /Users/zhongbingzhang/miniforge3/envs/tensorwork/lib/python3.10/site-packages (from matplotlib) (3.1.2)\n",
      "Requirement already satisfied: python-dateutil>=2.7 in /Users/zhongbingzhang/miniforge3/envs/tensorwork/lib/python3.10/site-packages (from matplotlib) (2.9.0)\n",
      "Requirement already satisfied: pytz>=2020.1 in /Users/zhongbingzhang/miniforge3/envs/tensorwork/lib/python3.10/site-packages (from pandas>=2.0.0->ortools) (2024.1)\n",
      "Requirement already satisfied: tzdata>=2022.7 in /Users/zhongbingzhang/miniforge3/envs/tensorwork/lib/python3.10/site-packages (from pandas>=2.0.0->ortools) (2024.1)\n",
      "Requirement already satisfied: six>=1.5 in /Users/zhongbingzhang/miniforge3/envs/tensorwork/lib/python3.10/site-packages (from python-dateutil>=2.7->matplotlib) (1.16.0)\n",
      "Downloading ortools-9.10.4067-cp310-cp310-macosx_11_0_arm64.whl (19.8 MB)\n",
      "\u001b[2K   \u001b[90m━━━━━━━━━━━━━━━━━━━━━━━━━━━━━━━━━━━━━━━━\u001b[0m \u001b[32m19.8/19.8 MB\u001b[0m \u001b[31m216.8 kB/s\u001b[0m eta \u001b[36m0:00:00\u001b[0m00:01\u001b[0m00:03\u001b[0m\n",
      "\u001b[?25hDownloading immutabledict-4.2.0-py3-none-any.whl (4.7 kB)\n",
      "Downloading protobuf-5.27.2-cp38-abi3-macosx_10_9_universal2.whl (412 kB)\n",
      "\u001b[2K   \u001b[90m━━━━━━━━━━━━━━━━━━━━━━━━━━━━━━━━━━━━━━━\u001b[0m \u001b[32m412.2/412.2 kB\u001b[0m \u001b[31m228.9 kB/s\u001b[0m eta \u001b[36m0:00:00\u001b[0ma \u001b[36m0:00:01\u001b[0m\n",
      "\u001b[?25hInstalling collected packages: protobuf, immutabledict, ortools\n",
      "  Attempting uninstall: protobuf\n",
      "    Found existing installation: protobuf 4.24.4\n",
      "    Uninstalling protobuf-4.24.4:\n",
      "      Successfully uninstalled protobuf-4.24.4\n",
      "\u001b[31mERROR: pip's dependency resolver does not currently take into account all the packages that are installed. This behaviour is the source of the following dependency conflicts.\n",
      "tensorflow 2.15.0 requires protobuf!=4.21.0,!=4.21.1,!=4.21.2,!=4.21.3,!=4.21.4,!=4.21.5,<5.0.0dev,>=3.20.3, but you have protobuf 5.27.2 which is incompatible.\u001b[0m\u001b[31m\n",
      "\u001b[0mSuccessfully installed immutabledict-4.2.0 ortools-9.10.4067 protobuf-5.27.2\n",
      "Note: you may need to restart the kernel to use updated packages.\n"
     ]
    }
   ],
   "source": [
    "pip install ortools matplotlib"
   ]
  },
  {
   "cell_type": "code",
   "execution_count": 2,
   "metadata": {},
   "outputs": [
    {
     "name": "stdout",
     "output_type": "stream",
     "text": [
      "Optimal solution found:\n",
      "Cargo 0 -> Destination 0, Cost: 4\n",
      "Cargo 1 -> Destination 2, Cost: 4\n",
      "Cargo 2 -> Destination 1, Cost: 3\n",
      "Total cost: 11\n"
     ]
    },
    {
     "data": {
      "image/png": "[encoded data removed]",
      "text/plain": [
       "<Figure size 1000x600 with 1 Axes>"
      ]
     },
     "metadata": {},
     "output_type": "display_data"
    }
   ],
   "source": [
    "from ortools.linear_solver import pywraplp\n",
    "import numpy as np\n",
    "import pandas as pd\n",
    "import matplotlib.pyplot as plt\n",
    "import seaborn as sns\n",
    "\n",
    "def solve_transportation_problem():\n",
    "\n",
    "    solver = pywraplp.Solver.CreateSolver('GLOP')\n",
    "\n",
    "    \n",
    "    num_sources = 3  \n",
    "    num_destinations = 3  \n",
    "\n",
    "   \n",
    "    costs = [\n",
    "        [4, 8, 8],\n",
    "        [2, 6, 4],\n",
    "        [5, 3, 7]\n",
    "    ]\n",
    "\n",
    "    \n",
    "    x = {}\n",
    "    for i in range(num_sources):\n",
    "        for j in range(num_destinations):\n",
    "            x[(i, j)] = solver.NumVar(0, solver.infinity(), f'x_{i}_{j}')\n",
    "\n",
    "\n",
    "    for i in range(num_sources):\n",
    "        solver.Add(sum(x[i, j] for j in range(num_destinations)) == 1)\n",
    "\n",
    "\n",
    "    for j in range(num_destinations):\n",
    "        solver.Add(sum(x[i, j] for i in range(num_sources)) == 1)\n",
    "\n",
    "   \n",
    "    solver.Minimize(solver.Sum(x[i, j] * costs[i][j] for i in range(num_sources) for j in range(num_destinations)))\n",
    "\n",
    "\n",
    "    status = solver.Solve()\n",
    "\n",
    "    if status == pywraplp.Solver.OPTIMAL:\n",
    "        print('Optimal solution found:')\n",
    "        total_cost = 0\n",
    "        for i in range(num_sources):\n",
    "            for j in range(num_destinations):\n",
    "                if x[i, j].solution_value() > 0:\n",
    "                    print(f'Cargo {i} -> Destination {j}, Cost: {costs[i][j]}')\n",
    "                    total_cost += costs[i][j]\n",
    "        print(f'Total cost: {total_cost}')\n",
    "        visualize_assignment(x, costs)\n",
    "    else:\n",
    "        print('No optimal solution found.')\n",
    "\n",
    "def visualize_assignment(x, costs):\n",
    "    assignment = np.zeros((len(costs), len(costs[0])))\n",
    "    for (i, j), var in x.items():\n",
    "        if var.solution_value() > 0:\n",
    "            assignment[i][j] = 1\n",
    "\n",
    "    df = pd.DataFrame(assignment, columns=[f'Dest {j}' for j in range(len(costs[0]))],\n",
    "                      index=[f'Cargo {i}' for i in range(len(costs))])\n",
    "\n",
    "    plt.figure(figsize=(10, 6))\n",
    "    sns.heatmap(df, annot=True, cmap='Blues', cbar=False, linewidths=.5)\n",
    "    plt.title('Optimal Cargo Assignment')\n",
    "    plt.show()\n",
    "\n",
    "solve_transportation_problem()"
   ]
  },
  {
   "cell_type": "code",
   "execution_count": null,
   "metadata": {},
   "outputs": [],
   "source": []
  }
 ],
 "metadata": {
  "kernelspec": {
   "display_name": "tensorwork",
   "language": "python",
   "name": "python3"
  },
  "language_info": {
   "codemirror_mode": {
    "name": "ipython",
    "version": 3
   },
   "file_extension": ".py",
   "mimetype": "text/x-python",
   "name": "python",
   "nbconvert_exporter": "python",
   "pygments_lexer": "ipython3",
   "version": "3.10.6"
  }
 },
 "nbformat": 4,
 "nbformat_minor": 2
}
